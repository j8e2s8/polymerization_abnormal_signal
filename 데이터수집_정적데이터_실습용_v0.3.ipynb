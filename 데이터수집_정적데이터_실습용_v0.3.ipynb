{
 "cells": [
  {
   "cell_type": "markdown",
   "metadata": {},
   "source": [
    "# 프로젝트명: 데이터 수집 실습 1 (BeautifulSoup4)\n",
    "\n",
    "#### 📌 BeautifulSoup는 정적인 사이트 수집에 주로 사용되며, html 태그의 데이터들을 가져옵니다.\n",
    "- BeautifulSoup - 정적, Selenium - 동적\n",
    "- BeautifulSoup의 단점은 웹 페이지에 스크롤로 움직여야지 데이터가 나오는 구조에선 사용하기 어렵습니다.\n",
    "\n",
    "#### 🚨 주의사항\n",
    "- 데이터 수집을 싫어하는 사이트의 정책 존중하기\n",
    "- 많은 요청은 서버에서 차단할 수 있으니, time.sleep(5) 실행해서 서버 과부하 예방하기"
   ]
  },
  {
   "cell_type": "code",
   "execution_count": 1,
   "metadata": {},
   "outputs": [],
   "source": [
    "import requests\n",
    "from bs4 import BeautifulSoup\n",
    "import pandas as pd"
   ]
  },
  {
   "cell_type": "markdown",
   "metadata": {},
   "source": [
    "### 1. requests로 데이터 가져오기"
   ]
  },
  {
   "cell_type": "code",
   "execution_count": 2,
   "metadata": {},
   "outputs": [
    {
     "name": "stdout",
     "output_type": "stream",
     "text": [
      "성공\n"
     ]
    }
   ],
   "source": [
    "url = \"https://weworkremotely.com/remote-full-time-jobs\"\n",
    "response = requests.get(url)\n",
    "\n",
    "## 해당 URL을 요청했을때 정상적으로 응답이 왔는지 확인\n",
    "if response.status_code == 200:\n",
    "    print(\"성공\")\n",
    "else :\n",
    "    print(\"실패\")"
   ]
  },
  {
   "cell_type": "markdown",
   "metadata": {},
   "source": [
    "### 2. BS4 사용하기"
   ]
  },
  {
   "cell_type": "code",
   "execution_count": 3,
   "metadata": {},
   "outputs": [],
   "source": [
    "soup = BeautifulSoup(response.content, 'html.parser')"
   ]
  },
  {
   "cell_type": "markdown",
   "metadata": {},
   "source": [
    "### 2-1. BS 주요 메소드 \n",
    "- find : 정의한 요소 1개만 찾아줍니다.\n",
    "- find_all : 정의한 요소들을 다 찾아줍니다.\n",
    "\n",
    "![태그의클래스](https://firebasestorage.googleapis.com/v0/b/ls-storage-e452a.appspot.com/o/%E1%84%90%E1%85%A2%E1%84%80%E1%85%B3%E1%84%8F%E1%85%B3%E1%86%AF%E1%84%85%E1%85%A2%E1%84%89%E1%85%B3.png?alt=media&token=4431179e-8b1a-4c24-88ef-655d601cdd22)"
   ]
  },
  {
   "cell_type": "code",
   "execution_count": 4,
   "metadata": {},
   "outputs": [
    {
     "data": {
      "text/plain": [
       "<span class=\"title\">Full-Stack Wordpress Developer</span>"
      ]
     },
     "execution_count": 4,
     "metadata": {},
     "output_type": "execute_result"
    }
   ],
   "source": [
    "# 최상단 제목 크롤링(class 사용)\n",
    "soup.find('span', class_='title')"
   ]
  },
  {
   "cell_type": "code",
   "execution_count": 5,
   "metadata": {},
   "outputs": [
    {
     "data": {
      "text/plain": [
       "'Full-Stack Wordpress Developer'"
      ]
     },
     "execution_count": 5,
     "metadata": {},
     "output_type": "execute_result"
    }
   ],
   "source": [
    "soup.find('span', class_='title').text"
   ]
  },
  {
   "cell_type": "code",
   "execution_count": 6,
   "metadata": {},
   "outputs": [
    {
     "data": {
      "text/plain": [
       "[<span class=\"title\">Full-Stack Wordpress Developer</span>]"
      ]
     },
     "execution_count": 6,
     "metadata": {},
     "output_type": "execute_result"
    }
   ],
   "source": [
    "# 최상단 제목 크롤링(selector 사용)\n",
    "soup.select('#job_list > section > article > ul > li:nth-child(1) > a > span.title')"
   ]
  },
  {
   "cell_type": "code",
   "execution_count": 7,
   "metadata": {},
   "outputs": [
    {
     "data": {
      "text/plain": [
       "[<span class=\"title\">Full-Stack Wordpress Developer</span>,\n",
       " <span class=\"title\">Admin and Support Specialist </span>,\n",
       " <span class=\"title\">Senior iOS Engineer</span>,\n",
       " <span class=\"title\">Social Media Video Content Creator</span>,\n",
       " <span class=\"title\">Front end Manager</span>,\n",
       " <span class=\"title\">German Customer Support Specialist</span>,\n",
       " <span class=\"title\">HR Business Partner</span>,\n",
       " <span class=\"title\">Senior Account Manager – Automotive Industry</span>,\n",
       " <span class=\"title\">Account Strategist, Mid-Market Sales, Google Customer Solutions (Italian, English)</span>,\n",
       " <span class=\"title\"> Manager, Mandiant Proactive Services, Google Cloud</span>,\n",
       " <span class=\"title\">Partnership Manager</span>,\n",
       " <span class=\"title\">Growth Manager</span>,\n",
       " <span class=\"title\">Managing Editor</span>,\n",
       " <span class=\"title\">Project Manager</span>,\n",
       " <span class=\"title\">Customer Success Manager (career changers welcome, no prior experience needed, B2B cold email agency, fully remote)</span>,\n",
       " <span class=\"title\">Product Owner</span>,\n",
       " <span class=\"title\">Junior Sales Associate</span>,\n",
       " <span class=\"title\">Lead WordPress Developer for Fast-Growing Pet Company (Remote/Worldwide)</span>,\n",
       " <span class=\"title\">Graphic Designer</span>,\n",
       " <span class=\"title\">Full Stack Engineer</span>,\n",
       " <span class=\"title\">Senior Next.js Developer</span>,\n",
       " <span class=\"title\">Senior Symfony Developer</span>,\n",
       " <span class=\"title\">Senior DevOps Engineer (Azure)</span>,\n",
       " <span class=\"title\">Senior Product Designer</span>,\n",
       " <span class=\"title\">Senior DevOps Engineer (AWS)</span>,\n",
       " <span class=\"title\">Senior Data Engineer</span>,\n",
       " <span class=\"title\">Senior React Native Developer</span>,\n",
       " <span class=\"title\">Senior Vue.js Developer</span>,\n",
       " <span class=\"title\">Senior Fullstack Developer</span>,\n",
       " <span class=\"title\">Senior Flutter Developer</span>,\n",
       " <span class=\"title\">Senior/Staff Software Engineer - Backend/Python - USA (100% Remote)</span>,\n",
       " <span class=\"title\">Python Fullstack Engineer</span>,\n",
       " <span class=\"title\">Customer Care Rep and Dispatcher</span>,\n",
       " <span class=\"title\">Junior Customer Support Specialist (Remote)</span>,\n",
       " <span class=\"title\">Sr. Manager – Production Planning</span>,\n",
       " <span class=\"title\">Senior Product Marketing Manager</span>,\n",
       " <span class=\"title\">Marketing Manager</span>,\n",
       " <span class=\"title\">Senior UI / UX Designer</span>,\n",
       " <span class=\"title\">Product Analyst</span>,\n",
       " <span class=\"title\">Social Media Manager</span>,\n",
       " <span class=\"title\">Customer Success Specialist - B2B SaaS</span>,\n",
       " <span class=\"title\">Benefits Advisor - No Experience necessary!</span>,\n",
       " <span class=\"title\">Senior React &amp; Python Developer</span>,\n",
       " <span class=\"title\">Assistant Media Buyer - Campaign Manager</span>,\n",
       " <span class=\"title\">Internal Communications Manager - Field Operations</span>,\n",
       " <span class=\"title\">Staff Data Scientist, Infrastructure</span>,\n",
       " <span class=\"title\">Senior Backend Engineer - Java/Kotlin</span>,\n",
       " <span class=\"title\">Software Engineer (L5), Content Engineering</span>,\n",
       " <span class=\"title\">Senior Backend Engineer</span>,\n",
       " <span class=\"title\">Remote Administrative Assistant</span>]"
      ]
     },
     "execution_count": 7,
     "metadata": {},
     "output_type": "execute_result"
    }
   ],
   "source": [
    "# find all을 사용하여 페이지의 모든 제목 크롤링\n",
    "all = soup.find_all('span', class_='title')\n",
    "all"
   ]
  },
  {
   "cell_type": "code",
   "execution_count": 8,
   "metadata": {},
   "outputs": [
    {
     "data": {
      "text/plain": [
       "'Senior iOS Engineer'"
      ]
     },
     "execution_count": 8,
     "metadata": {},
     "output_type": "execute_result"
    }
   ],
   "source": [
    "all[2].text"
   ]
  },
  {
   "cell_type": "markdown",
   "metadata": {},
   "source": [
    "반복문을 이용해 다음 페이지 자동 크롤링"
   ]
  },
  {
   "cell_type": "code",
   "execution_count": 9,
   "metadata": {},
   "outputs": [
    {
     "name": "stdout",
     "output_type": "stream",
     "text": [
      "https://weworkremotely.com/remote-full-time-jobs?page=1\n",
      "https://weworkremotely.com/remote-full-time-jobs?page=2\n",
      "https://weworkremotely.com/remote-full-time-jobs?page=3\n",
      "https://weworkremotely.com/remote-full-time-jobs?page=4\n",
      "https://weworkremotely.com/remote-full-time-jobs?page=5\n",
      "https://weworkremotely.com/remote-full-time-jobs?page=6\n",
      "https://weworkremotely.com/remote-full-time-jobs?page=7\n",
      "https://weworkremotely.com/remote-full-time-jobs?page=8\n",
      "https://weworkremotely.com/remote-full-time-jobs?page=9\n",
      "https://weworkremotely.com/remote-full-time-jobs?page=10\n"
     ]
    }
   ],
   "source": [
    "for i in range(1,11):\n",
    "    page = str(i)\n",
    "    url = \"https://weworkremotely.com/remote-full-time-jobs?page=\" + page\n",
    "    print(url)\n",
    "    # response = requests.get(url)\n",
    "    # soup = BeautifulSoup(response.content, 'html.parser')\n",
    "    # all = soup.find_all('span', class_='title')\n",
    "    # for j in range(len(all)):\n",
    "    #     print(all[j].text)"
   ]
  },
  {
   "cell_type": "markdown",
   "metadata": {},
   "source": [
    "동적 웹페이지 크롤링 시도"
   ]
  },
  {
   "cell_type": "code",
   "execution_count": 10,
   "metadata": {},
   "outputs": [
    {
     "data": {
      "text/plain": [
       "[]"
      ]
     },
     "execution_count": 10,
     "metadata": {},
     "output_type": "execute_result"
    }
   ],
   "source": [
    "url = \"http://m.sports.naver.com\"\n",
    "response = requests.get(url)\n",
    "\n",
    "## 크롤링 시도\n",
    "soup = BeautifulSoup(response.content, 'html.parser')\n",
    "soup.find_all('strong', class_='ReporterSubscription_news_title__voqZ4')"
   ]
  }
 ],
 "metadata": {
  "kernelspec": {
   "display_name": "LS_week1",
   "language": "python",
   "name": "python3"
  },
  "language_info": {
   "codemirror_mode": {
    "name": "ipython",
    "version": 3
   },
   "file_extension": ".py",
   "mimetype": "text/x-python",
   "name": "python",
   "nbconvert_exporter": "python",
   "pygments_lexer": "ipython3",
   "version": "3.10.9"
  }
 },
 "nbformat": 4,
 "nbformat_minor": 2
}
